{
 "cells": [
  {
   "cell_type": "markdown",
   "metadata": {},
   "source": [
    "貪欲法"
   ]
  },
  {
   "cell_type": "code",
   "execution_count": 3,
   "metadata": {},
   "outputs": [
    {
     "name": "stdout",
     "output_type": "stream",
     "text": [
      "3 2 1 3 0 2\n",
      "620\n",
      "6\n"
     ]
    }
   ],
   "source": [
    "# 硬貨の問題\n",
    "c = list(map(int,input().split()))\n",
    "A = int(input())\n",
    "cl = [1,5,10,50,100,500]\n",
    "tmp = 0\n",
    "count = 0\n",
    "for i in range(-1,-6,-1):\n",
    "    while c[i] > 0 and tmp+c[i]*cl[i] < A:\n",
    "        tmp += c[i]*cl[i]\n",
    "        c[i] += -1\n",
    "        count += 1\n",
    "        \n",
    "\"\"\"\n",
    "input1\n",
    "3 2 1 3 0 2\n",
    "620\n",
    "\n",
    "output1\n",
    "6\n",
    "\"\"\"\n",
    "print(count)"
   ]
  },
  {
   "cell_type": "code",
   "execution_count": 6,
   "metadata": {},
   "outputs": [
    {
     "name": "stdout",
     "output_type": "stream",
     "text": [
      "5\n",
      "1 2 4 6 8\n",
      "3 5 7 9 10\n",
      "3\n"
     ]
    }
   ],
   "source": [
    "# 区間スケジューリング\n",
    "\n",
    "from operator import itemgetter, attrgetter\n",
    "n = int(input())\n",
    "s = list(map(int,input().split()))\n",
    "t = list(map(int,input().split()))\n",
    "pair = []\n",
    "for i in range(n):\n",
    "    pair.append([s[i],t[i]])\n",
    "pair = sorted(pair,key = itemgetter(1))\n",
    "finish = 0\n",
    "count = 0\n",
    "for i in range(n):\n",
    "    if finish <= pair[i][0]:\n",
    "        count += 1\n",
    "        finish = pair[i][1]\n",
    "    else:\n",
    "        continue\n",
    "\"\"\"\n",
    "input1\n",
    "5\n",
    "1 2 4 6 8\n",
    "3 5 7 9 10\n",
    "\n",
    "output1\n",
    "3\n",
    "\"\"\"     \n",
    "print(count)"
   ]
  },
  {
   "cell_type": "code",
   "execution_count": 12,
   "metadata": {},
   "outputs": [
    {
     "name": "stdout",
     "output_type": "stream",
     "text": [
      "6\n",
      "ACDBCB\n",
      "ABCBCD\n"
     ]
    }
   ],
   "source": [
    "# 辞書順最小の問題\n",
    "\n",
    "from collections import deque\n",
    "N = int(input())\n",
    "S1 = deque(list(input()))\n",
    "S2 = deque(reversed(S1))\n",
    "T = deque()\n",
    "while len(S1) > 0:\n",
    "    if \"\".join(S1) <= \"\".join(S2):\n",
    "        T.append(S1.popleft())\n",
    "        S2 = deque(reversed(S1))\n",
    "    else:\n",
    "        T.append(S1.pop())\n",
    "        S2 = deque(reversed(S1))\n",
    "\n",
    "\"\"\"\n",
    "input1\n",
    "6\n",
    "ACDBCB\n",
    "\n",
    "output1\n",
    "ABCBCD\n",
    "\"\"\"\n",
    "print(\"\".join(T))"
   ]
  },
  {
   "cell_type": "code",
   "execution_count": 1,
   "metadata": {},
   "outputs": [
    {
     "name": "stdin",
     "output_type": "stream",
     "text": [
      " 6\n",
      " 10\n",
      " 1 7 15 20 30 50\n"
     ]
    },
    {
     "name": "stdout",
     "output_type": "stream",
     "text": [
      "3\n"
     ]
    }
   ],
   "source": [
    "# Saruman's Army\n",
    "\n",
    "N = int(input())\n",
    "R = int(input())\n",
    "X = list(map(int,input().split()))\n",
    "i = 0\n",
    "ans = 0\n",
    "while i < N:\n",
    "    s = X[i]\n",
    "    while i < N and X[i] <= s + R:\n",
    "        i += 1\n",
    "    p = X[i-1]\n",
    "    while i < N and X[i] <= p + R:\n",
    "        i += 1\n",
    "    print(i)\n",
    "    ans += 1\n",
    "\n",
    "\"\"\"\n",
    "input1\n",
    "6\n",
    "10\n",
    "1 7 15 20 30 50\n",
    "\n",
    "output1\n",
    "3\n",
    "\"\"\"\n",
    "print(ans)"
   ]
  },
  {
   "cell_type": "code",
   "execution_count": 6,
   "metadata": {},
   "outputs": [
    {
     "name": "stdout",
     "output_type": "stream",
     "text": [
      "3\n",
      "8 5 8\n",
      "34\n"
     ]
    }
   ],
   "source": [
    "# Fence Repair\n",
    "N = int(input())\n",
    "L = sorted(list(map(int,input().split())),reverse = 1)\n",
    "cost = 0\n",
    "for i in range(len(L)-1):\n",
    "    cost += sum(L) - sum(L[:i])\n",
    "\n",
    "\"\"\"\n",
    "input1\n",
    "3\n",
    "8 5 8\n",
    "\n",
    "output1\n",
    "34\n",
    "\"\"\"\n",
    "print(cost)"
   ]
  }
 ],
 "metadata": {
  "kernelspec": {
   "display_name": "Python 3",
   "language": "python",
   "name": "python3"
  },
  "language_info": {
   "codemirror_mode": {
    "name": "ipython",
    "version": 3
   },
   "file_extension": ".py",
   "mimetype": "text/x-python",
   "name": "python",
   "nbconvert_exporter": "python",
   "pygments_lexer": "ipython3",
   "version": "3.8.0"
  }
 },
 "nbformat": 4,
 "nbformat_minor": 4
}
