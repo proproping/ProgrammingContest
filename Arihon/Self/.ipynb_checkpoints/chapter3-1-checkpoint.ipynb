{
 "cells": [
  {
   "cell_type": "code",
   "execution_count": 6,
   "metadata": {},
   "outputs": [
    {
     "name": "stdout",
     "output_type": "stream",
     "text": [
      "5\n",
      "2 3 3 5 6\n",
      "3\n",
      "1\n"
     ]
    }
   ],
   "source": [
    "# 二分探索\n",
    "# lower_bound\n",
    "\n",
    "n = int(input())\n",
    "a = list(map(int,input().split()))\n",
    "k = int(input())\n",
    "\n",
    "def solve():\n",
    "    lb = -1\n",
    "    ub = n\n",
    "    while (ub - lb > 1):\n",
    "        mid = (lb+ub)//2\n",
    "        if a[mid] >= k:\n",
    "            ub = mid\n",
    "        else:\n",
    "            lb = mid\n",
    "    print(ub)\n",
    "\"\"\"\n",
    "input1\n",
    "5\n",
    "2 3 3 5 6\n",
    "3\n",
    "\n",
    "output1\n",
    "3\n",
    "\"\"\"\n",
    "solve()"
   ]
  },
  {
   "cell_type": "code",
   "execution_count": 9,
   "metadata": {},
   "outputs": [
    {
     "name": "stdout",
     "output_type": "stream",
     "text": [
      "1\n",
      "3\n",
      "3\n"
     ]
    }
   ],
   "source": [
    "# bisect\n",
    "\n",
    "from bisect import *\n",
    "\n",
    "n = 5\n",
    "a = [2,3,3,5,6]\n",
    "k = 3\n",
    "\n",
    "# 左側に挿入するとき\n",
    "print(bisect_left(a,k))\n",
    "# 右側に挿入するとき\n",
    "print(bisect_right(a,k))\n",
    "# どのエントリーよりも右側に挿入するとき\n",
    "print(bisect(a,k))"
   ]
  },
  {
   "cell_type": "code",
   "execution_count": 1,
   "metadata": {},
   "outputs": [
    {
     "name": "stdin",
     "output_type": "stream",
     "text": [
      " 4\n",
      " 11\n",
      " 8.02 7.43 4.57 5.39\n"
     ]
    },
    {
     "name": "stdout",
     "output_type": "stream",
     "text": [
      "2.01\n"
     ]
    }
   ],
   "source": [
    "# Cable master\n",
    "\n",
    "from decimal import Decimal, ROUND_HALF_UP, ROUND_HALF_EVEN\n",
    "\n",
    "N = int(input())\n",
    "K = int(input())\n",
    "L = list(map(float,input().split()))\n",
    "\n",
    "L = sorted(L)\n",
    "\n",
    "def C(x):\n",
    "    num = 0\n",
    "    for i in range(N):\n",
    "        num += floor(L[i]/x)\n",
    "    return num >= K\n",
    "\n",
    "def solve():\n",
    "    inf = max(L)\n",
    "    lb = 0\n",
    "    ub = float(inf)\n",
    "    for i in range(100):\n",
    "        mid = (lb+ub)/2\n",
    "        if C(mid):\n",
    "            lb = mid\n",
    "        else:\n",
    "            ub = mid\n",
    "    print('{:.2f}'.format(ub))\n",
    "\n",
    "\"\"\"\n",
    "input1\n",
    "4\n",
    "11\n",
    "8.02 7.43 4.57 5.39\n",
    "\n",
    "output1\n",
    "2.00\n",
    "\"\"\"\n",
    "\n",
    "solve()"
   ]
  },
  {
   "cell_type": "code",
   "execution_count": 4,
   "metadata": {},
   "outputs": [
    {
     "name": "stdout",
     "output_type": "stream",
     "text": [
      "5\n",
      "3\n",
      "1 2 8 4 9\n",
      "3\n"
     ]
    }
   ],
   "source": [
    "# 最小値の最大化\n",
    "# Aggressive cows\n",
    "\n",
    "N = int(input())\n",
    "M = int(input())\n",
    "x = list(map(int,input().split()))\n",
    "\n",
    "x = sorted(x)\n",
    "\n",
    "def C(d):\n",
    "    last = 0\n",
    "    for i in range(1,M):\n",
    "        crt = last + 1\n",
    "        while (crt < N) and (x[crt]-x[last] < d):\n",
    "            crt += 1\n",
    "        if crt == N:\n",
    "            return False\n",
    "        last = crt\n",
    "    return True\n",
    "\n",
    "def solve():\n",
    "    inf = max(x)-min(x)\n",
    "    lb = 0\n",
    "    ub = inf\n",
    "    while (ub-lb > 1):\n",
    "        mid = (ub+lb)/2\n",
    "        if C(mid):\n",
    "            lb = mid\n",
    "        else:\n",
    "            ub = mid\n",
    "    print(int(lb))\n",
    "\n",
    "\"\"\"\n",
    "input1\n",
    "5\n",
    "3\n",
    "1 2 8 4 9\n",
    "\n",
    "output1\n",
    "3\n",
    "\"\"\"\n",
    "\n",
    "solve()"
   ]
  },
  {
   "cell_type": "code",
   "execution_count": 8,
   "metadata": {},
   "outputs": [
    {
     "name": "stdout",
     "output_type": "stream",
     "text": [
      "3\n",
      "2\n",
      "2 2\n",
      "5 3\n",
      "2 1\n",
      "0.75\n"
     ]
    }
   ],
   "source": [
    "# 平均最大化\n",
    "\n",
    "n = int(input())\n",
    "k = int(input())\n",
    "w = []\n",
    "v = []\n",
    "for _ in range(n):\n",
    "    tmp = list(map(int,input().split()))\n",
    "    w.append(tmp[0])\n",
    "    v.append(tmp[1])\n",
    "y = [0]*n\n",
    "def C(x):\n",
    "    for i in range(n):\n",
    "        y[i] = v[i] - x*w[i]\n",
    "    y.sort()\n",
    "    sum = 0\n",
    "    for i in range(k):\n",
    "        sum += y[n-i-1]\n",
    "    return sum >= 0\n",
    "def solve():\n",
    "    inf = max(v)\n",
    "    lb = 0\n",
    "    ub = inf\n",
    "    for i in range(100):\n",
    "        mid = (ub+lb)/2\n",
    "        if C(mid):\n",
    "            lb = mid\n",
    "        else:\n",
    "            ub = mid\n",
    "    print('{:.2f}'.format(ub))\n",
    "\n",
    "\"\"\"\n",
    "input1\n",
    "3\n",
    "2\n",
    "2 2\n",
    "5 3\n",
    "2 1\n",
    "\n",
    "output1\n",
    "0.75\n",
    "\"\"\"\n",
    "\n",
    "solve()"
   ]
  }
 ],
 "metadata": {
  "kernelspec": {
   "display_name": "Python 3",
   "language": "python",
   "name": "python3"
  },
  "language_info": {
   "codemirror_mode": {
    "name": "ipython",
    "version": 3
   },
   "file_extension": ".py",
   "mimetype": "text/x-python",
   "name": "python",
   "nbconvert_exporter": "python",
   "pygments_lexer": "ipython3",
   "version": "3.8.0"
  }
 },
 "nbformat": 4,
 "nbformat_minor": 4
}
