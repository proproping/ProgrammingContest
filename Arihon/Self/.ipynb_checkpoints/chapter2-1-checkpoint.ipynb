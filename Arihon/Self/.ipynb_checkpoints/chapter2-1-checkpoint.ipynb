{
 "cells": [
  {
   "cell_type": "markdown",
   "metadata": {},
   "source": [
    "全探索"
   ]
  },
  {
   "cell_type": "markdown",
   "metadata": {},
   "source": [
    "再帰関数"
   ]
  },
  {
   "cell_type": "code",
   "execution_count": 9,
   "metadata": {},
   "outputs": [
    {
     "name": "stdout",
     "output_type": "stream",
     "text": [
      "3628800\n"
     ]
    }
   ],
   "source": [
    "# 階乗\n",
    "def fact(n:int):\n",
    "    if n == 0:\n",
    "        return 1\n",
    "    else:\n",
    "        return n*fact(n-1)\n",
    "print(fact(10))"
   ]
  },
  {
   "cell_type": "code",
   "execution_count": 27,
   "metadata": {},
   "outputs": [
    {
     "name": "stdout",
     "output_type": "stream",
     "text": [
      "3524578\n",
      "1.932143211364746\n"
     ]
    }
   ],
   "source": [
    "# フィボナッチ数列\n",
    "import time\n",
    "def fib(n:int):\n",
    "    if n <= 1:\n",
    "        return n\n",
    "    else:\n",
    "        return fib(n-1) + fib(n-2)\n",
    "time_sta = time.time()\n",
    "print(fib(33))\n",
    "time_end = time.time()\n",
    "tim = time_end - time_sta\n",
    "print(tim)"
   ]
  },
  {
   "cell_type": "code",
   "execution_count": 28,
   "metadata": {},
   "outputs": [
    {
     "name": "stdout",
     "output_type": "stream",
     "text": [
      "3524578\n",
      "1.6979889869689941\n"
     ]
    }
   ],
   "source": [
    "# メモ化フィボナッチ\n",
    "import time\n",
    "n = 33\n",
    "memo = [0]*n\n",
    "def memofib(n:int):\n",
    "    if n <= 1:\n",
    "        return n\n",
    "    elif memo[n-1] != 0:\n",
    "        return memo[n-1]\n",
    "    else:\n",
    "        memo[n-1] = fib(n-1) + fib(n-2)\n",
    "        return memo[n-1]\n",
    "time_sta = time.time()\n",
    "print(memofib(n))\n",
    "time_end = time.time()\n",
    "tim = time_end - time_sta\n",
    "print(tim)"
   ]
  },
  {
   "cell_type": "markdown",
   "metadata": {},
   "source": [
    "スタック・キュー"
   ]
  },
  {
   "cell_type": "code",
   "execution_count": 49,
   "metadata": {
    "scrolled": true
   },
   "outputs": [
    {
     "name": "stdout",
     "output_type": "stream",
     "text": [
      "deque([])\n",
      "<class 'collections.deque'>\n",
      "deque(['m', 'n'])\n",
      "deque(['m', 'n', 'o'])\n",
      "deque(['l', 'm', 'n', 'o'])\n",
      "deque(['l', 'm', 'n', 'o', 'p', 'q'])\n",
      "deque(['j', 'k', 'l', 'm', 'n', 'o', 'p', 'q'])\n",
      "deque(['j', 'k', 'l', 'XXX', 'm', 'n', 'o', 'p', 'q'])\n",
      "deque(['j', 'k', 'l', 'XXX', 'm', 'n', 'o', 'p', 'YYY', 'q'])\n",
      "deque(['j', 'k', 'l', 'XXX', 'm', 'n', 'o', 'p', 'YYY', 'q', 'ZZZ'])\n",
      "deque(['XYZ', 'j', 'k', 'l', 'XXX', 'm', 'n', 'o', 'p', 'YYY', 'q', 'ZZZ'])\n",
      "deque(['a', 'b', 'c', 'b', 'd'])\n",
      "d\n",
      "deque(['a', 'b', 'c', 'b'])\n",
      "a\n",
      "deque(['b', 'c', 'b'])\n",
      "deque(['c', 'b'])\n",
      "deque([])\n",
      "deque(['a', 'b', 'c', 'd', 'e'])\n",
      "deque(['e', 'a', 'b', 'c', 'd'])\n",
      "deque(['a', 'b', 'c', 'd', 'e'])\n",
      "deque(['d', 'e', 'a', 'b', 'c'])\n",
      "deque(['a', 'b', 'c', 'd', 'e'])\n",
      "deque(['b', 'c', 'd', 'e', 'a'])\n",
      "deque(['a', 'b', 'c', 'd', 'e'])\n",
      "deque(['e', 'a', 'b', 'c', 'd'])\n",
      "a\n",
      "2\n",
      "deque(['e', 'd', 'c', 'b', 'a'])\n",
      "deque(['e', 'd', 'c', 'b', 'a'])\n"
     ]
    }
   ],
   "source": [
    "# デキュー\n",
    "\n",
    "from collections import deque\n",
    "\n",
    "d = deque()\n",
    "print(d)\n",
    "\n",
    "print(type(d))\n",
    "\n",
    "d = deque([\"m\",\"n\"])\n",
    "print(d)\n",
    "\n",
    "d.append(\"o\")\n",
    "print(d)\n",
    "\n",
    "d.appendleft(\"l\")\n",
    "print(d)\n",
    "\n",
    "d.extend([\"p\",\"q\"])\n",
    "print(d)\n",
    "\n",
    "d.extendleft([\"k\",\"j\"])\n",
    "print(d)\n",
    "\n",
    "d.insert(3,\"XXX\")\n",
    "print(d)\n",
    "\n",
    "d.insert(-1,\"YYY\")\n",
    "print(d)\n",
    "\n",
    "d.insert(100,\"ZZZ\")\n",
    "print(d)\n",
    "\n",
    "d.insert(-100,\"XYZ\")\n",
    "print(d)\n",
    "\n",
    "d = deque(list(\"abcbd\"))\n",
    "print(d)\n",
    "\n",
    "print(d.pop())\n",
    "\n",
    "print(d)\n",
    "\n",
    "print(d.popleft())\n",
    "\n",
    "print(d)\n",
    "\n",
    "d.remove(\"b\")\n",
    "print(d)\n",
    "\n",
    "d.clear()\n",
    "print(d)\n",
    "\n",
    "d = deque(list(\"abcde\"))\n",
    "print(d)\n",
    "\n",
    "d.rotate()\n",
    "print(d)\n",
    "\n",
    "d = deque(list(\"abcde\"))\n",
    "print(d)\n",
    "\n",
    "d.rotate(2)\n",
    "print(d)\n",
    "\n",
    "d = deque(list(\"abcde\"))\n",
    "print(d)\n",
    "\n",
    "d.rotate(-1)\n",
    "print(d)\n",
    "\n",
    "d = deque(list(\"abcde\"))\n",
    "print(d)\n",
    "\n",
    "d.rotate(6)\n",
    "print(d)\n",
    "\n",
    "d = deque(list(\"abccd\"))\n",
    "print(d[0])\n",
    "\n",
    "print(d.count(\"c\"))\n",
    "\n",
    "d = deque(list(\"abcde\"))\n",
    "d.reverse()\n",
    "print(d)\n",
    "\n",
    "d = deque(list(\"abcde\"))\n",
    "print(deque(reversed(d)))"
   ]
  },
  {
   "cell_type": "code",
   "execution_count": 50,
   "metadata": {},
   "outputs": [
    {
     "name": "stdout",
     "output_type": "stream",
     "text": [
      "deque([['a', 'b', 'c']])\n",
      "deque([['a', 'b', 'c'], 'd'])\n",
      "['a', 'b', 'c']\n",
      "deque(['d'])\n"
     ]
    }
   ],
   "source": [
    "# デキューをキューとして使う(queue,FIFO)\n",
    "# エンキュー ＝ append()\n",
    "# デキュー = popleft()\n",
    "\n",
    "from collections import deque\n",
    "\n",
    "d = deque([list(\"abc\")])\n",
    "print(d)\n",
    "\n",
    "d.append(\"d\")\n",
    "print(d)\n",
    "\n",
    "print(d.popleft())\n",
    "\n",
    "print(d)"
   ]
  },
  {
   "cell_type": "code",
   "execution_count": 51,
   "metadata": {},
   "outputs": [
    {
     "name": "stdout",
     "output_type": "stream",
     "text": [
      "deque(['a', 'b', 'c'])\n",
      "deque(['a', 'b', 'c', 'd'])\n",
      "d\n",
      "deque(['a', 'b', 'c'])\n"
     ]
    }
   ],
   "source": [
    "# デキューをスタックとして使う(stack,LIFO)\n",
    "# プッシュ ＝ append()\n",
    "# ポップ ＝ pop()\n",
    "\n",
    "from collections import deque\n",
    "\n",
    "d = deque(list(\"abc\"))\n",
    "print(d)\n",
    "\n",
    "d.append(\"d\")\n",
    "print(d)\n",
    "\n",
    "print(d.pop())\n",
    "\n",
    "print(d)"
   ]
  },
  {
   "cell_type": "code",
   "execution_count": null,
   "metadata": {},
   "outputs": [],
   "source": [
    "# デキューをデックとして使う(deque,両端キュー)\n",
    "# フツーに使えばおｋ\n",
    "\n",
    "from collections import deque\n",
    "\n",
    "d = deque([list(\"abc\")])\n",
    "print(d)\n",
    "\n",
    "d.append(\"d\")\n",
    "print(d)\n",
    "\n",
    "print(d.popleft())\n",
    "\n",
    "print(d)\n",
    "\n",
    "d = deque(list(\"abc\"))\n",
    "print(d)\n",
    "\n",
    "d.append(\"d\")\n",
    "print(d)\n",
    "\n",
    "print(d.pop())\n",
    "\n",
    "print(d)"
   ]
  },
  {
   "cell_type": "markdown",
   "metadata": {},
   "source": [
    "深さ優先探索"
   ]
  },
  {
   "cell_type": "code",
   "execution_count": 54,
   "metadata": {},
   "outputs": [
    {
     "name": "stdout",
     "output_type": "stream",
     "text": [
      "10\n",
      "1 2 3 4 5 6 7 8 9 10\n",
      "55\n",
      "Yes\n"
     ]
    }
   ],
   "source": [
    "# 部分和問題\n",
    "n = int(input())\n",
    "a = list(map(int,input().split()))\n",
    "k = int(input())\n",
    "def dfs(i:int,sum:int):\n",
    "    if i == n:\n",
    "        return sum == k\n",
    "    if (dfs(i+1,sum)):\n",
    "        return True\n",
    "    if (dfs(i+1,sum+a[i])):\n",
    "        return True\n",
    "    else:\n",
    "        return False\n",
    "\"\"\"\n",
    "input1\n",
    "4\n",
    "1 2 4 7\n",
    "13\n",
    "\n",
    "output1\n",
    "Yes\n",
    "\n",
    "input2\n",
    "4\n",
    "1 2 4 7\n",
    "15\n",
    "\n",
    "output2\n",
    "No\n",
    "\"\"\"\n",
    "\n",
    "if dfs(0,0):\n",
    "    print(\"Yes\")\n",
    "else:\n",
    "    print(\"No\")"
   ]
  },
  {
   "cell_type": "code",
   "execution_count": 65,
   "metadata": {},
   "outputs": [
    {
     "name": "stdout",
     "output_type": "stream",
     "text": [
      "10\n",
      "12\n",
      "W.........WW. .WWW.....WWW ....WW...WW. .........WW. .........W.. ..W......W.. .W.W.....WW. W.W.W.....W. .W.W......W. \n",
      "a\n",
      "a\n",
      "a\n",
      "a\n",
      "a\n",
      "a\n",
      "a\n",
      "f\n",
      "f\n",
      "0\n"
     ]
    }
   ],
   "source": [
    "# Lake Counting\n",
    "\n",
    "N = int(input())\n",
    "M = int(input())\n",
    "field = [list(input()) for _ in range(N)]\n",
    "count = 0\n",
    "def dfs(x:int,y:int):\n",
    "    field[x][y] = \".\"\n",
    "    for dx in [-1,0,1]:\n",
    "        for dy in [-1,0,1]:\n",
    "            nx = x + dx\n",
    "            ny = y + dy\n",
    "            if 0 <= nx < N and 0 <= ny < M and field[nx][ny] == \"W\":\n",
    "                dfs(nx,ny)\n",
    "    return\n",
    "for i in range(len(field)):\n",
    "    for j in range(len(field[i])):\n",
    "        if field[i][j] == \"W\":\n",
    "            dfs(i,j)\n",
    "            count += 1\n",
    "\n",
    "\"\"\"\n",
    "input1\n",
    "10\n",
    "12\n",
    "W.........WW.\n",
    ".WWW.....WWW\n",
    "....WW...WW.\n",
    ".........WW.\n",
    ".........W..\n",
    "..W......W..\n",
    ".W.W.....WW.\n",
    "W.W.W.....W.\n",
    ".W.W......W.\n",
    "..W.......W.\n",
    "\n",
    "output1\n",
    "3\n",
    "\"\"\"            \n",
    "\n",
    "print(count) "
   ]
  },
  {
   "cell_type": "markdown",
   "metadata": {},
   "source": [
    "幅優先探索"
   ]
  },
  {
   "cell_type": "code",
   "execution_count": 71,
   "metadata": {},
   "outputs": [
    {
     "name": "stdout",
     "output_type": "stream",
     "text": [
      "10\n",
      "10\n",
      "#S######.#\n",
      "......#..#\n",
      ".#.##.##.#\n",
      ".#........\n",
      "##.##.####\n",
      "....#....#\n",
      ".#######.#\n",
      "....#.....\n",
      ".####.###.\n",
      "....#...G#\n",
      "22\n"
     ]
    }
   ],
   "source": [
    "# 迷路の最短経路\n",
    "\n",
    "N = int(input())\n",
    "M = int(input())\n",
    "maze = [list(input()) for _ in range(N)]\n",
    "INF = 10**8\n",
    "cost = [[INF]*M for _ in range(N)]\n",
    "dx = [1,0,-1,0]\n",
    "dy = [0,1,0,-1]\n",
    "sx,sy = 0,0\n",
    "gx,gy = 0,0\n",
    "for i in range(len(maze)):\n",
    "    if \"S\" in maze[i]:\n",
    "        sx = i\n",
    "        sy = maze[i].index(\"S\")\n",
    "    if \"G\" in maze[i]:\n",
    "        gx = i\n",
    "        gy = maze[i].index(\"G\")\n",
    "    else:\n",
    "        continue\n",
    "def bfs():\n",
    "    P = deque()\n",
    "    P.append([sx,sy])\n",
    "    cost[sx][sy] = 0\n",
    "    while len(P) != 0:\n",
    "        p = P.popleft()\n",
    "        if p[0] == gx and p[1] == gy:\n",
    "            break\n",
    "        for i in range(4):\n",
    "            nx = p[0] + dx[i]\n",
    "            ny = p[1] + dy[i]\n",
    "            if 0 <= nx < N and 0 <= ny < M and maze[nx][ny] != \"#\" and cost[nx][ny] == INF:\n",
    "                P.append([nx,ny])\n",
    "                cost[nx][ny] = cost[p[0]][p[1]]+1\n",
    "    return cost[gx][gy]\n",
    "\n",
    "\"\"\"\n",
    "input1\n",
    "10\n",
    "10\n",
    "#S######.#\n",
    "......#..#\n",
    ".#.##.##.#\n",
    ".#........\n",
    "##.##.####\n",
    "....#....#\n",
    ".#######.#\n",
    "....#.....\n",
    ".####.###.\n",
    "....#...G#\n",
    "\n",
    "output1\n",
    "22\n",
    "\"\"\"\n",
    "\n",
    "\n",
    "print(bfs())"
   ]
  }
 ],
 "metadata": {
  "kernelspec": {
   "display_name": "Python 3",
   "language": "python",
   "name": "python3"
  },
  "language_info": {
   "codemirror_mode": {
    "name": "ipython",
    "version": 3
   },
   "file_extension": ".py",
   "mimetype": "text/x-python",
   "name": "python",
   "nbconvert_exporter": "python",
   "pygments_lexer": "ipython3",
   "version": "3.8.0"
  }
 },
 "nbformat": 4,
 "nbformat_minor": 2
}
